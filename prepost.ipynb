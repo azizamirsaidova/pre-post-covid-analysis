{
 "cells": [
  {
   "cell_type": "code",
   "execution_count": 1,
   "metadata": {},
   "outputs": [],
   "source": [
    "#Importing libraries\n",
    "import pandas as pd\n",
    "import numpy as np\n",
    "import seaborn as sns\n",
    "import matplotlib.pyplot as plt\n",
    "%matplotlib inline"
   ]
  },
  {
   "cell_type": "code",
   "execution_count": 45,
   "metadata": {},
   "outputs": [
    {
     "name": "stdout",
     "output_type": "stream",
     "text": [
      "['Recoded Data', 'Data Split', 'Data Analysis']\n"
     ]
    }
   ],
   "source": [
    "#Loading datasets\n",
    "df_excel = pd.ExcelFile('/Users/azizamirsaidova/Desktop/BERC/Family Business Survey Paper/DATA/FBS Pre-Pos Covid Analysis.xlsx')\n",
    "print(df_excel.sheet_names)"
   ]
  },
  {
   "cell_type": "code",
   "execution_count": 46,
   "metadata": {},
   "outputs": [],
   "source": [
    "df = df_excel.parse('Data Analysis')"
   ]
  },
  {
   "cell_type": "code",
   "execution_count": 47,
   "metadata": {},
   "outputs": [
    {
     "data": {
      "text/plain": [
       "array(['Annual Sales Range PreC', 'Annual Sales Range PosC',\n",
       "       'Next 5 years PreC', 'Next 5 years PosC', 'Hours per week PreC',\n",
       "       'Hours per week PosC', 'Time Management PreC',\n",
       "       'Time Management PosC', 'Quality of Life PreC',\n",
       "       'Quality of Life PosC', 'Profitability Rank PreC',\n",
       "       'Profitability Rank PosC', 'Central Role after 6  month PreC',\n",
       "       'Central Role after 6  month PosC',\n",
       "       'Quality of Communication PreC', 'Quality of Communication PosC'],\n",
       "      dtype=object)"
      ]
     },
     "execution_count": 47,
     "metadata": {},
     "output_type": "execute_result"
    }
   ],
   "source": [
    "#Data insights\n",
    "df.columns.values"
   ]
  },
  {
   "cell_type": "code",
   "execution_count": 48,
   "metadata": {},
   "outputs": [
    {
     "data": {
      "text/html": [
       "<div>\n",
       "<style scoped>\n",
       "    .dataframe tbody tr th:only-of-type {\n",
       "        vertical-align: middle;\n",
       "    }\n",
       "\n",
       "    .dataframe tbody tr th {\n",
       "        vertical-align: top;\n",
       "    }\n",
       "\n",
       "    .dataframe thead th {\n",
       "        text-align: right;\n",
       "    }\n",
       "</style>\n",
       "<table border=\"1\" class=\"dataframe\">\n",
       "  <thead>\n",
       "    <tr style=\"text-align: right;\">\n",
       "      <th></th>\n",
       "      <th>Annual Sales Range PreC</th>\n",
       "      <th>Annual Sales Range PosC</th>\n",
       "      <th>Next 5 years PreC</th>\n",
       "      <th>Next 5 years PosC</th>\n",
       "      <th>Hours per week PreC</th>\n",
       "      <th>Hours per week PosC</th>\n",
       "      <th>Time Management PreC</th>\n",
       "      <th>Time Management PosC</th>\n",
       "      <th>Quality of Life PreC</th>\n",
       "      <th>Quality of Life PosC</th>\n",
       "      <th>Profitability Rank PreC</th>\n",
       "      <th>Profitability Rank PosC</th>\n",
       "      <th>Central Role after 6  month PreC</th>\n",
       "      <th>Central Role after 6  month PosC</th>\n",
       "      <th>Quality of Communication PreC</th>\n",
       "      <th>Quality of Communication PosC</th>\n",
       "    </tr>\n",
       "  </thead>\n",
       "  <tbody>\n",
       "    <tr>\n",
       "      <th>0</th>\n",
       "      <td>$51 to $200 million</td>\n",
       "      <td>$51 to $200 million</td>\n",
       "      <td>No</td>\n",
       "      <td>Yes</td>\n",
       "      <td>51 or more</td>\n",
       "      <td>51 or more</td>\n",
       "      <td>Okay</td>\n",
       "      <td>Nearly perfect</td>\n",
       "      <td>Drains from quality of life</td>\n",
       "      <td>Drains from quality of life</td>\n",
       "      <td>Bottom 10th to 40th</td>\n",
       "      <td>Bottom 10th to 40th</td>\n",
       "      <td>Damaged</td>\n",
       "      <td>Damaged</td>\n",
       "      <td>Okay</td>\n",
       "      <td>Okay</td>\n",
       "    </tr>\n",
       "    <tr>\n",
       "      <th>1</th>\n",
       "      <td>$51 to $200 million</td>\n",
       "      <td>$201 to $750 million</td>\n",
       "      <td>Yes</td>\n",
       "      <td>Yes</td>\n",
       "      <td>40 or less</td>\n",
       "      <td>40 or less</td>\n",
       "      <td>Okay</td>\n",
       "      <td>Nearly perfect</td>\n",
       "      <td>Adds to quality of life</td>\n",
       "      <td>Adds to quality of life</td>\n",
       "      <td>50th to 70th</td>\n",
       "      <td>50th to 70th</td>\n",
       "      <td>Damaged</td>\n",
       "      <td>Performance is affected but damage is reversible</td>\n",
       "      <td>Okay</td>\n",
       "      <td>Nearly perfect</td>\n",
       "    </tr>\n",
       "    <tr>\n",
       "      <th>2</th>\n",
       "      <td>Less than $10 million</td>\n",
       "      <td>$201 to $750 million</td>\n",
       "      <td>Yes</td>\n",
       "      <td>Yes</td>\n",
       "      <td>51 or more</td>\n",
       "      <td>40 or less</td>\n",
       "      <td>Poor</td>\n",
       "      <td>Nearly perfect</td>\n",
       "      <td>Does not add or drain</td>\n",
       "      <td>Adds to quality of life</td>\n",
       "      <td>50th to 70th</td>\n",
       "      <td>Bottom 10th to 40th</td>\n",
       "      <td>Damaged</td>\n",
       "      <td>Performance is affected but damage is reversible</td>\n",
       "      <td>Okay</td>\n",
       "      <td>Nearly perfect</td>\n",
       "    </tr>\n",
       "    <tr>\n",
       "      <th>3</th>\n",
       "      <td>$11 to $50 million</td>\n",
       "      <td>$11 to $50 million</td>\n",
       "      <td>Yes</td>\n",
       "      <td>Yes</td>\n",
       "      <td>41 to 50</td>\n",
       "      <td>51 or more</td>\n",
       "      <td>Okay</td>\n",
       "      <td>Okay</td>\n",
       "      <td>Adds to quality of life</td>\n",
       "      <td>Adds to quality of life</td>\n",
       "      <td>50th to 70th</td>\n",
       "      <td>Bottom 10th to 40th</td>\n",
       "      <td>Damaged</td>\n",
       "      <td>Damaged</td>\n",
       "      <td>Okay</td>\n",
       "      <td>Nearly perfect</td>\n",
       "    </tr>\n",
       "    <tr>\n",
       "      <th>4</th>\n",
       "      <td>$11 to $50 million</td>\n",
       "      <td>Less than $10 million</td>\n",
       "      <td>Yes</td>\n",
       "      <td>Yes</td>\n",
       "      <td>40 or less</td>\n",
       "      <td>41 to 50</td>\n",
       "      <td>Okay</td>\n",
       "      <td>Okay</td>\n",
       "      <td>Adds to quality of life</td>\n",
       "      <td>Does not add or drain</td>\n",
       "      <td>80th or above</td>\n",
       "      <td>50th to 70th</td>\n",
       "      <td>Performance is affected but damage is reversible</td>\n",
       "      <td>Performance is affected but damage is reversible</td>\n",
       "      <td>Okay</td>\n",
       "      <td>Okay</td>\n",
       "    </tr>\n",
       "  </tbody>\n",
       "</table>\n",
       "</div>"
      ],
      "text/plain": [
       "  Annual Sales Range PreC Annual Sales Range PosC Next 5 years PreC  \\\n",
       "0     $51 to $200 million     $51 to $200 million                No   \n",
       "1     $51 to $200 million    $201 to $750 million               Yes   \n",
       "2   Less than $10 million    $201 to $750 million               Yes   \n",
       "3      $11 to $50 million      $11 to $50 million               Yes   \n",
       "4      $11 to $50 million   Less than $10 million               Yes   \n",
       "\n",
       "  Next 5 years PosC Hours per week PreC Hours per week PosC  \\\n",
       "0               Yes          51 or more          51 or more   \n",
       "1               Yes          40 or less          40 or less   \n",
       "2               Yes          51 or more          40 or less   \n",
       "3               Yes            41 to 50          51 or more   \n",
       "4               Yes          40 or less            41 to 50   \n",
       "\n",
       "  Time Management PreC Time Management PosC         Quality of Life PreC  \\\n",
       "0                 Okay       Nearly perfect  Drains from quality of life   \n",
       "1                 Okay       Nearly perfect      Adds to quality of life   \n",
       "2                 Poor       Nearly perfect        Does not add or drain   \n",
       "3                 Okay                 Okay      Adds to quality of life   \n",
       "4                 Okay                 Okay      Adds to quality of life   \n",
       "\n",
       "          Quality of Life PosC Profitability Rank PreC  \\\n",
       "0  Drains from quality of life     Bottom 10th to 40th   \n",
       "1      Adds to quality of life            50th to 70th   \n",
       "2      Adds to quality of life            50th to 70th   \n",
       "3      Adds to quality of life            50th to 70th   \n",
       "4        Does not add or drain           80th or above   \n",
       "\n",
       "  Profitability Rank PosC                  Central Role after 6  month PreC  \\\n",
       "0     Bottom 10th to 40th                                           Damaged   \n",
       "1            50th to 70th                                           Damaged   \n",
       "2     Bottom 10th to 40th                                           Damaged   \n",
       "3     Bottom 10th to 40th                                           Damaged   \n",
       "4            50th to 70th  Performance is affected but damage is reversible   \n",
       "\n",
       "                   Central Role after 6  month PosC  \\\n",
       "0                                           Damaged   \n",
       "1  Performance is affected but damage is reversible   \n",
       "2  Performance is affected but damage is reversible   \n",
       "3                                           Damaged   \n",
       "4  Performance is affected but damage is reversible   \n",
       "\n",
       "  Quality of Communication PreC Quality of Communication PosC  \n",
       "0                          Okay                          Okay  \n",
       "1                          Okay                Nearly perfect  \n",
       "2                          Okay                Nearly perfect  \n",
       "3                          Okay                Nearly perfect  \n",
       "4                          Okay                          Okay  "
      ]
     },
     "execution_count": 48,
     "metadata": {},
     "output_type": "execute_result"
    }
   ],
   "source": [
    "#Data insights\n",
    "df.head()"
   ]
  },
  {
   "cell_type": "code",
   "execution_count": 49,
   "metadata": {},
   "outputs": [
    {
     "data": {
      "text/html": [
       "<div>\n",
       "<style scoped>\n",
       "    .dataframe tbody tr th:only-of-type {\n",
       "        vertical-align: middle;\n",
       "    }\n",
       "\n",
       "    .dataframe tbody tr th {\n",
       "        vertical-align: top;\n",
       "    }\n",
       "\n",
       "    .dataframe thead th {\n",
       "        text-align: right;\n",
       "    }\n",
       "</style>\n",
       "<table border=\"1\" class=\"dataframe\">\n",
       "  <thead>\n",
       "    <tr style=\"text-align: right;\">\n",
       "      <th></th>\n",
       "      <th>Annual Sales Range PreC</th>\n",
       "      <th>Annual Sales Range PosC</th>\n",
       "      <th>Next 5 years PreC</th>\n",
       "      <th>Next 5 years PosC</th>\n",
       "      <th>Hours per week PreC</th>\n",
       "      <th>Hours per week PosC</th>\n",
       "      <th>Time Management PreC</th>\n",
       "      <th>Time Management PosC</th>\n",
       "      <th>Quality of Life PreC</th>\n",
       "      <th>Quality of Life PosC</th>\n",
       "      <th>Profitability Rank PreC</th>\n",
       "      <th>Profitability Rank PosC</th>\n",
       "      <th>Central Role after 6  month PreC</th>\n",
       "      <th>Central Role after 6  month PosC</th>\n",
       "      <th>Quality of Communication PreC</th>\n",
       "      <th>Quality of Communication PosC</th>\n",
       "    </tr>\n",
       "  </thead>\n",
       "  <tbody>\n",
       "    <tr>\n",
       "      <th>count</th>\n",
       "      <td>153</td>\n",
       "      <td>158</td>\n",
       "      <td>153</td>\n",
       "      <td>158</td>\n",
       "      <td>153</td>\n",
       "      <td>158</td>\n",
       "      <td>153</td>\n",
       "      <td>158</td>\n",
       "      <td>153</td>\n",
       "      <td>158</td>\n",
       "      <td>153</td>\n",
       "      <td>158</td>\n",
       "      <td>153</td>\n",
       "      <td>158</td>\n",
       "      <td>153</td>\n",
       "      <td>158</td>\n",
       "    </tr>\n",
       "    <tr>\n",
       "      <th>unique</th>\n",
       "      <td>4</td>\n",
       "      <td>4</td>\n",
       "      <td>2</td>\n",
       "      <td>2</td>\n",
       "      <td>3</td>\n",
       "      <td>3</td>\n",
       "      <td>3</td>\n",
       "      <td>3</td>\n",
       "      <td>3</td>\n",
       "      <td>3</td>\n",
       "      <td>3</td>\n",
       "      <td>3</td>\n",
       "      <td>3</td>\n",
       "      <td>3</td>\n",
       "      <td>3</td>\n",
       "      <td>3</td>\n",
       "    </tr>\n",
       "    <tr>\n",
       "      <th>top</th>\n",
       "      <td>$11 to $50 million</td>\n",
       "      <td>$201 to $750 million</td>\n",
       "      <td>Yes</td>\n",
       "      <td>Yes</td>\n",
       "      <td>40 or less</td>\n",
       "      <td>40 or less</td>\n",
       "      <td>Nearly perfect</td>\n",
       "      <td>Nearly perfect</td>\n",
       "      <td>Adds to quality of life</td>\n",
       "      <td>Adds to quality of life</td>\n",
       "      <td>50th to 70th</td>\n",
       "      <td>80th or above</td>\n",
       "      <td>Exactly the same</td>\n",
       "      <td>Exactly the same</td>\n",
       "      <td>Nearly perfect</td>\n",
       "      <td>Nearly perfect</td>\n",
       "    </tr>\n",
       "    <tr>\n",
       "      <th>freq</th>\n",
       "      <td>49</td>\n",
       "      <td>44</td>\n",
       "      <td>144</td>\n",
       "      <td>150</td>\n",
       "      <td>69</td>\n",
       "      <td>99</td>\n",
       "      <td>96</td>\n",
       "      <td>97</td>\n",
       "      <td>110</td>\n",
       "      <td>120</td>\n",
       "      <td>62</td>\n",
       "      <td>59</td>\n",
       "      <td>57</td>\n",
       "      <td>63</td>\n",
       "      <td>106</td>\n",
       "      <td>104</td>\n",
       "    </tr>\n",
       "  </tbody>\n",
       "</table>\n",
       "</div>"
      ],
      "text/plain": [
       "       Annual Sales Range PreC Annual Sales Range PosC Next 5 years PreC  \\\n",
       "count                      153                     158               153   \n",
       "unique                       4                       4                 2   \n",
       "top         $11 to $50 million    $201 to $750 million               Yes   \n",
       "freq                        49                      44               144   \n",
       "\n",
       "       Next 5 years PosC Hours per week PreC Hours per week PosC  \\\n",
       "count                158                 153                 158   \n",
       "unique                 2                   3                   3   \n",
       "top                  Yes          40 or less          40 or less   \n",
       "freq                 150                  69                  99   \n",
       "\n",
       "       Time Management PreC Time Management PosC     Quality of Life PreC  \\\n",
       "count                   153                  158                      153   \n",
       "unique                    3                    3                        3   \n",
       "top          Nearly perfect       Nearly perfect  Adds to quality of life   \n",
       "freq                     96                   97                      110   \n",
       "\n",
       "           Quality of Life PosC Profitability Rank PreC  \\\n",
       "count                       158                     153   \n",
       "unique                        3                       3   \n",
       "top     Adds to quality of life            50th to 70th   \n",
       "freq                        120                      62   \n",
       "\n",
       "       Profitability Rank PosC Central Role after 6  month PreC  \\\n",
       "count                      158                              153   \n",
       "unique                       3                                3   \n",
       "top              80th or above                 Exactly the same   \n",
       "freq                        59                               57   \n",
       "\n",
       "       Central Role after 6  month PosC Quality of Communication PreC  \\\n",
       "count                               158                           153   \n",
       "unique                                3                             3   \n",
       "top                    Exactly the same                Nearly perfect   \n",
       "freq                                 63                           106   \n",
       "\n",
       "       Quality of Communication PosC  \n",
       "count                            158  \n",
       "unique                             3  \n",
       "top                   Nearly perfect  \n",
       "freq                             104  "
      ]
     },
     "execution_count": 49,
     "metadata": {},
     "output_type": "execute_result"
    }
   ],
   "source": [
    "#Statistics about the data\n",
    "df.describe()"
   ]
  },
  {
   "cell_type": "code",
   "execution_count": 50,
   "metadata": {},
   "outputs": [
    {
     "data": {
      "text/plain": [
       "array(['51 or more', '40 or less', '41 to 50', nan], dtype=object)"
      ]
     },
     "execution_count": 50,
     "metadata": {},
     "output_type": "execute_result"
    }
   ],
   "source": [
    "#Target variable review\n",
    "df['Hours per week PreC'].unique()"
   ]
  },
  {
   "cell_type": "code",
   "execution_count": 52,
   "metadata": {},
   "outputs": [
    {
     "data": {
      "text/plain": [
       "40 or less    69\n",
       "41 to 50      47\n",
       "51 or more    37\n",
       "Name: Hours per week PreC, dtype: int64"
      ]
     },
     "execution_count": 52,
     "metadata": {},
     "output_type": "execute_result"
    }
   ],
   "source": [
    "#Target variable review\n",
    "df['Hours per week PreC'].value_counts()"
   ]
  },
  {
   "cell_type": "code",
   "execution_count": 53,
   "metadata": {},
   "outputs": [
    {
     "data": {
      "text/plain": [
       "<matplotlib.axes._subplots.AxesSubplot at 0x12646ac70>"
      ]
     },
     "execution_count": 53,
     "metadata": {},
     "output_type": "execute_result"
    },
    {
     "data": {
      "image/png": "[encoded data removed]",
      "text/plain": [
       "<Figure size 432x288 with 1 Axes>"
      ]
     },
     "metadata": {
      "needs_background": "light"
     },
     "output_type": "display_data"
    }
   ],
   "source": [
    "#Data visualization\n",
    "#Check missing values\n",
    "sns.heatmap(df.isnull(),cbar=False,yticklabels=False,cmap = 'viridis')"
   ]
  },
  {
   "cell_type": "code",
   "execution_count": null,
   "metadata": {},
   "outputs": [],
   "source": []
  }
 ],
 "metadata": {
  "kernelspec": {
   "display_name": "Python 3",
   "language": "python",
   "name": "python3"
  },
  "language_info": {
   "codemirror_mode": {
    "name": "ipython",
    "version": 3
   },
   "file_extension": ".py",
   "mimetype": "text/x-python",
   "name": "python",
   "nbconvert_exporter": "python",
   "pygments_lexer": "ipython3",
   "version": "3.8.3"
  }
 },
 "nbformat": 4,
 "nbformat_minor": 4
}
